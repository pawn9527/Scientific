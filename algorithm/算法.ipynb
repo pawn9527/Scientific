{
 "cells": [
  {
   "cell_type": "markdown",
   "metadata": {
    "collapsed": true
   },
   "source": [
    "## leetcode 739 每日温度\n",
    "### 题目\n",
    "根据每日 气温 列表，请重新生成一个列表，对应位置的输出是需要再等待多久温度才会升高超过该日的天数。如果之后都不会升高，请在该位置用 0 来代替。\n",
    "### 输入\n",
    "[73, 74, 75, 71, 69, 72, 76, 73]\n",
    "### 输出\n",
    "[1, 1, 4, 2, 1, 1, 0, 0]\n",
    "### 注意\n",
    "气温 列表长度的范围是 [1, 30000]。每个气温的值的均为华氏度，都是在 [30, 100] 范围内的整数。\n",
    "### 解题思路\n",
    "![](http://s0.lgstatic.com/i/image2/M01/90/C9/CgoB5l2IRMSAYv0mAJhTnwV5DmQ777.gif)"
   ]
  },
  {
   "cell_type": "code",
   "execution_count": 25,
   "metadata": {},
   "outputs": [
    {
     "name": "stdout",
     "output_type": "stream",
     "text": [
      "None\n",
      "index: 1, cur: 74, 73 stack: [0]\n",
      "[1, 0, 0, 0, 0, 0, 0, 0]\n",
      "index: 2, cur: 75, 74 stack: [1]\n",
      "[1, 1, 0, 0, 0, 0, 0, 0]\n",
      "index: 3, cur: 71, 75 stack: [2]\n",
      "index: 4, cur: 69, 71 stack: [2, 3]\n",
      "index: 5, cur: 72, 69 stack: [2, 3, 4]\n",
      "[1, 1, 0, 0, 1, 0, 0, 0]\n",
      "[1, 1, 0, 2, 1, 0, 0, 0]\n",
      "index: 6, cur: 76, 72 stack: [2, 5]\n",
      "[1, 1, 0, 2, 1, 1, 0, 0]\n",
      "[1, 1, 4, 2, 1, 1, 0, 0]\n",
      "index: 7, cur: 73, 76 stack: [6]\n"
     ]
    },
    {
     "data": {
      "text/plain": [
       "[1, 1, 4, 2, 1, 1, 0, 0]"
      ]
     },
     "execution_count": 25,
     "metadata": {},
     "output_type": "execute_result"
    }
   ],
   "source": [
    "def dailyTemperatures(T):\n",
    "    stack = []\n",
    "    result = [0]* len(T)\n",
    "    is_first = True\n",
    "    for index, i in enumerate(T):\n",
    "        print(f\"index: {index}, cur: {i}, {T[stack[-1]]} stack: {stack}\" if stack else None)\n",
    "        # 如果当前栈中数据 并且 栈顶是昨天的天气 如果 今天的天气大于昨天的 \n",
    "        while stack and i > T[stack[-1]]:\n",
    "            result[stack.pop()] = index -stack[-1]\n",
    "            print(result)\n",
    "        stack.append(index)\n",
    "    return result\n",
    "dailyTemperatures([73, 74, 75, 71, 69, 72, 76, 73])"
   ]
  },
  {
   "cell_type": "code",
   "execution_count": null,
   "metadata": {},
   "outputs": [],
   "source": []
  }
 ],
 "metadata": {
  "kernelspec": {
   "display_name": "Python 3",
   "language": "python",
   "name": "python3"
  },
  "language_info": {
   "codemirror_mode": {
    "name": "ipython",
    "version": 3
   },
   "file_extension": ".py",
   "mimetype": "text/x-python",
   "name": "python",
   "nbconvert_exporter": "python",
   "pygments_lexer": "ipython3",
   "version": "3.7.1"
  }
 },
 "nbformat": 4,
 "nbformat_minor": 1
}
