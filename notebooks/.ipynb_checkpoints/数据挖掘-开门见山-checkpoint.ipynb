{
 "cells": [
  {
   "cell_type": "markdown",
   "metadata": {},
   "source": [
    "基础术语\n",
    "\n",
    "- 数据挖掘定义\n",
    "\n",
    "  > 数据挖掘: 起源与多个学科， 比如建模部分起源于统计学和机器学习。\n",
    "  >\n",
    "  > 统计学----以数据模型为驱动，常常建立一个能够产生数据的模型。\n",
    "  >\n",
    "  > 机器学习 --- 以算法为驱动，让计算机执行算法来发现知识， 自我学习。\n",
    "\n",
    "- 数据挖掘是指正在大型的数据仓库张对有价值的信息知识进行获取，其方法一种是分类分析，一种是聚类.\n",
    "  - 数据初期的准备通常占用整个数据挖掘项目工作的70%左右。\n",
    "  - 数据挖掘本身融合了统计学， 数据库和机器学习等学科， 并不是新的技术。\n",
    "  - 数据挖掘更适合业务人员来学习(相比技术人员学习业务来的更高效)\n",
    "  - 数据挖掘适用于传统的BI(报表，OLAP等)无法支持的领域\n",
    " "
   ]
  },
  {
   "cell_type": "code",
   "execution_count": null,
   "metadata": {},
   "outputs": [],
   "source": []
  }
 ],
 "metadata": {
  "kernelspec": {
   "display_name": "Python 3",
   "language": "python",
   "name": "python3"
  },
  "language_info": {
   "codemirror_mode": {
    "name": "ipython",
    "version": 3
   },
   "file_extension": ".py",
   "mimetype": "text/x-python",
   "name": "python",
   "nbconvert_exporter": "python",
   "pygments_lexer": "ipython3",
   "version": "3.7.1"
  }
 },
 "nbformat": 4,
 "nbformat_minor": 2
}
