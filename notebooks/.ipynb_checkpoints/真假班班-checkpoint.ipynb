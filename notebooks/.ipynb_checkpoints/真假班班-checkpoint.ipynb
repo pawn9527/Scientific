{
 "cells": [
  {
   "cell_type": "code",
   "execution_count": 49,
   "metadata": {},
   "outputs": [],
   "source": [
    "import  cv2\n",
    "import face_recognition\n",
    "\n",
    "# 读取班班的卡通头像以及班班的合照\n",
    "kt_image = face_recognition.load_image_file('../data/image/kt.jpg')\n",
    "collective_image =  face_recognition.load_image_file('../data/image/collective.jpg')"
   ]
  },
  {
   "cell_type": "code",
   "execution_count": 50,
   "metadata": {},
   "outputs": [],
   "source": [
    "# 获取合照中人脸的位置向量\n",
    "collective_face_location = face_recognition.face_locations(collective_image)\n",
    "# 将班班的卡通头像和合照都转化为 128位向量\n",
    "kt_encoding = face_recognition.face_encodings(kt_image)\n",
    "collective_encoding = face_recognition.face_encodings(collective_image)"
   ]
  },
  {
   "cell_type": "code",
   "execution_count": null,
   "metadata": {},
   "outputs": [],
   "source": []
  },
  {
   "cell_type": "code",
   "execution_count": 51,
   "metadata": {},
   "outputs": [],
   "source": [
    "name = '班班'\n",
    "for i in range(len(collective_encoding)):\n",
    "    encoding = collective_encoding[i]\n",
    "    face_location =  collective_face_location[i]\n",
    "    top, right, bottom, left = face_location\n",
    "    cv2.rectangle(encoding, (left, top), (right, bottom), (0, 255, 0), 2)\n",
    "    results = face_recognition.compare_faces(kt_encoding, encoding)\n",
    "    for j in range(len(results)):\n",
    "        if results[j]:\n",
    "            cv2.putText(collective_image, name, (left-10, top-10), cv2.FONT_HERSHEY_SIMPLEX, 0.5, (0, 255, 0), 2)"
   ]
  },
  {
   "cell_type": "code",
   "execution_count": null,
   "metadata": {},
   "outputs": [],
   "source": [
    "unknown_image_rgb = cv2.cvtColor(collective_image, cv2.COLOR_BGR2RGB)\n",
    "cv2.imshow(\"Output\", unknown_image_rgb)\n",
    "cv2.waitKey(0)"
   ]
  },
  {
   "cell_type": "code",
   "execution_count": null,
   "metadata": {},
   "outputs": [],
   "source": []
  }
 ],
 "metadata": {
  "kernelspec": {
   "display_name": "Python 3",
   "language": "python",
   "name": "python3"
  },
  "language_info": {
   "codemirror_mode": {
    "name": "ipython",
    "version": 3
   },
   "file_extension": ".py",
   "mimetype": "text/x-python",
   "name": "python",
   "nbconvert_exporter": "python",
   "pygments_lexer": "ipython3",
   "version": "3.7.1"
  },
  "pycharm": {
   "stem_cell": {
    "cell_type": "raw",
    "metadata": {
     "collapsed": false
    },
    "source": []
   }
  }
 },
 "nbformat": 4,
 "nbformat_minor": 2
}
