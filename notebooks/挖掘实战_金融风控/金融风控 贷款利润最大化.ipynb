{
 "cells": [
  {
   "cell_type": "markdown",
   "metadata": {},
   "source": [
    "1. 数据预处理\n",
    "  - 去掉不重要的对模型结果影响较小的特征\n",
    "  - 去掉一些明显没用的特征\n",
    "  - 确定当前贷款状态(label值)\n",
    "  - 去掉特征中只有一种属性的列\n",
    "  - 处理缺失值\n",
    "  - 数据类型的转换\n",
    "    > 由于sk-learn 库不接受字符型的数据，所有还需将上面特征中字符型的数据进行处理"
   ]
  },
  {
   "cell_type": "code",
   "execution_count": 1,
   "metadata": {},
   "outputs": [
    {
     "data": {
      "text/plain": [
       "39535"
      ]
     },
     "execution_count": 1,
     "metadata": {},
     "output_type": "execute_result"
    }
   ],
   "source": [
    "import warnings\n",
    "warnings.filterwarnings('ignore')\n",
    "import pandas as pd\n",
    "# 加载数据集 跳过第一行\n",
    "loans_2007 = pd.read_csv('data/LoanStats3a.csv', skiprows=1)\n",
    "len(loans_2007)"
   ]
  },
  {
   "cell_type": "code",
   "execution_count": 2,
   "metadata": {},
   "outputs": [
    {
     "name": "stdout",
     "output_type": "stream",
     "text": [
      "(39535, 111)\n"
     ]
    }
   ],
   "source": [
    "half_count = len(loans_2007) / 2\n",
    "print(loans_2007.shape)"
   ]
  },
  {
   "cell_type": "code",
   "execution_count": 3,
   "metadata": {},
   "outputs": [
    {
     "name": "stdout",
     "output_type": "stream",
     "text": [
      "(39535, 54)\n"
     ]
    }
   ],
   "source": [
    "# 删除\n",
    "loans_2007 = loans_2007.dropna(thresh=half_count, axis=1)\n",
    "print(loans_2007.shape)"
   ]
  },
  {
   "cell_type": "code",
   "execution_count": 4,
   "metadata": {},
   "outputs": [
    {
     "name": "stdout",
     "output_type": "stream",
     "text": [
      "(39535, 52)\n"
     ]
    }
   ],
   "source": [
    "loans_2007 = loans_2007.drop([\"desc\", \"url\"], axis=1)\n",
    "print(loans_2007.shape)\n",
    "# 保存数据\n",
    "loans_2007.to_csv('loans_2007.csv', index=False)"
   ]
  },
  {
   "cell_type": "code",
   "execution_count": 5,
   "metadata": {},
   "outputs": [
    {
     "name": "stdout",
     "output_type": "stream",
     "text": [
      "id                                1077501\n",
      "member_id                      1.2966e+06\n",
      "loan_amnt                            5000\n",
      "funded_amnt                          5000\n",
      "funded_amnt_inv                      4975\n",
      "term                            36 months\n",
      "int_rate                           10.65%\n",
      "installment                        162.87\n",
      "grade                                   B\n",
      "sub_grade                              B2\n",
      "emp_title                             NaN\n",
      "emp_length                      10+ years\n",
      "home_ownership                       RENT\n",
      "annual_inc                          24000\n",
      "verification_status              Verified\n",
      "issue_d                            Dec-11\n",
      "loan_status                    Fully Paid\n",
      "pymnt_plan                              n\n",
      "purpose                       credit_card\n",
      "title                            Computer\n",
      "zip_code                            860xx\n",
      "addr_state                             AZ\n",
      "dti                                 27.65\n",
      "delinq_2yrs                             0\n",
      "earliest_cr_line                   Jan-85\n",
      "inq_last_6mths                          1\n",
      "open_acc                                3\n",
      "pub_rec                                 0\n",
      "revol_bal                           13648\n",
      "revol_util                         83.70%\n",
      "total_acc                               9\n",
      "initial_list_status                     f\n",
      "out_prncp                               0\n",
      "out_prncp_inv                           0\n",
      "total_pymnt                       5863.16\n",
      "total_pymnt_inv                   5833.84\n",
      "total_rec_prncp                      5000\n",
      "total_rec_int                      863.16\n",
      "total_rec_late_fee                      0\n",
      "recoveries                              0\n",
      "collection_recovery_fee                 0\n",
      "last_pymnt_d                       Jan-15\n",
      "last_pymnt_amnt                    171.62\n",
      "last_credit_pull_d                 Nov-16\n",
      "collections_12_mths_ex_med              0\n",
      "policy_code                             1\n",
      "application_type               INDIVIDUAL\n",
      "acc_now_delinq                          0\n",
      "chargeoff_within_12_mths                0\n",
      "delinq_amnt                             0\n",
      "pub_rec_bankruptcies                    0\n",
      "tax_liens                               0\n",
      "Name: 0, dtype: object\n",
      "------------------------------\n",
      "52\n"
     ]
    }
   ],
   "source": [
    "# 重新加载数据\n",
    "import pandas as pd\n",
    "loans_2007 = pd.read_csv(\"loans_2007.csv\")\n",
    "print(loans_2007.iloc[0])\n",
    "print(\"-\"*30)\n",
    "print(loans_2007.shape[1])"
   ]
  },
  {
   "cell_type": "markdown",
   "metadata": {},
   "source": [
    "- id:是用户唯一ID，是谁其实不重要\n",
    "- member_id：填写表的ID号\n",
    "- loan_amnt：期望贷款的值 ，比如说期望贷款5000\n",
    "- funded_amnt：期望贷款了多少钱\n",
    "- funded_amnt_inv：实际上发放了多少钱，是模型建立后的预测值吧，对于咱们马上建立的模型是没有用的，把当时填的信息为准，而不是模型预测后的数据为准\n",
    "- term：还款日期，分36个月 ，这个是可以用的\n",
    "- int_rate：利息，10.65% ，利息越高，还款越困难，反之，越容易，这个可以用\n",
    "- grade ：B ， 打分 ，其他信贷机构打的分\n",
    "- sub_grade ：B2 ，打分  ，其实打分都是说的是一个事，去掉一个就行了，比如有两列都是给客户打分\n",
    "- emp_title：客户所在公司名称，越有名气越好，贷款越容易，可以把公司分成A B C D的档次，耗时和成本太高，把成千上万家公司分成，难度很大，除非已经分好了,所以这个特征就不要了\n",
    "- home_ownership(房屋的使用权) ：RENT ，房屋是租的、还是你自己的的还是贷款买的，这个可以当做特征\n",
    "- annual_inc:客户所在的公司年度增长额度\n",
    "- verification_status：身份证是否被核实，Verified核实\n",
    "- issue_d：逾期时间 ，Dec-11 12月11日"
   ]
  },
  {
   "cell_type": "code",
   "execution_count": 6,
   "metadata": {},
   "outputs": [],
   "source": [
    "\n",
    "#删除：客户ID和被模型预测后的值\n",
    "#客户唯一的ID、编号ID、loan_amnt：期望贷款的值、funded_amnt_inv：实际上发放了多少钱、grade和sub_grade给客户打分\n",
    "#emp_title：客户所在公司名称\n",
    "#issue_d：逾期时间\n",
    "loans_2007 = loans_2007.drop([\"id\", \"member_id\", \"funded_amnt\", \"funded_amnt_inv\", \"grade\", \"sub_grade\", \"emp_title\", \"issue_d\"], axis=1)"
   ]
  },
  {
   "cell_type": "code",
   "execution_count": 7,
   "metadata": {},
   "outputs": [],
   "source": [
    "\"\"\"\n",
    "#删除：被模型预测后的值\n",
    "#zip_code：邮编 美国常用\n",
    "#out_prncp和out_prncp_inv都是一样的：总资金中剩余的未偿还本金\n",
    "#out_prncp_inv：实际未偿还的本金\n",
    "#total_rec_prncp：迄今收到的本金\n",
    "\"\"\"\n",
    "loans_2007 = loans_2007.drop([\"zip_code\", \"out_prncp\", \"out_prncp_inv\", \"total_pymnt\", \"total_pymnt_inv\", \"total_rec_prncp\"], axis=1)\n"
   ]
  },
  {
   "cell_type": "code",
   "execution_count": 8,
   "metadata": {},
   "outputs": [
    {
     "name": "stdout",
     "output_type": "stream",
     "text": [
      "loan_amnt                            5000\n",
      "term                            36 months\n",
      "int_rate                           10.65%\n",
      "installment                        162.87\n",
      "emp_length                      10+ years\n",
      "home_ownership                       RENT\n",
      "annual_inc                          24000\n",
      "verification_status              Verified\n",
      "loan_status                    Fully Paid\n",
      "pymnt_plan                              n\n",
      "purpose                       credit_card\n",
      "title                            Computer\n",
      "addr_state                             AZ\n",
      "dti                                 27.65\n",
      "delinq_2yrs                             0\n",
      "earliest_cr_line                   Jan-85\n",
      "inq_last_6mths                          1\n",
      "open_acc                                3\n",
      "pub_rec                                 0\n",
      "revol_bal                           13648\n",
      "revol_util                         83.70%\n",
      "total_acc                               9\n",
      "initial_list_status                     f\n",
      "last_credit_pull_d                 Nov-16\n",
      "collections_12_mths_ex_med              0\n",
      "policy_code                             1\n",
      "application_type               INDIVIDUAL\n",
      "acc_now_delinq                          0\n",
      "chargeoff_within_12_mths                0\n",
      "delinq_amnt                             0\n",
      "pub_rec_bankruptcies                    0\n",
      "tax_liens                               0\n",
      "Name: 0, dtype: object\n",
      "-----------------------\n",
      "32\n"
     ]
    }
   ],
   "source": [
    "\n",
    "\"\"\"\n",
    "#删除：被模型预测后的值\n",
    "#total_rec_int：迄今收到的利息\n",
    "\n",
    "#recoveries：是否收回本金\n",
    "#collection_recovery_fee：收集回收费用\n",
    "#last_pymnt_d：最近一次收到还款的时间\n",
    "#last_pymnt_amnt：全部的还款的时间\n",
    "\"\"\"\n",
    "\n",
    "#保留候选特征\n",
    "loans_2007 = loans_2007.drop([\"total_rec_int\", \"total_rec_late_fee\", \"recoveries\", \"collection_recovery_fee\", \"last_pymnt_d\", \"last_pymnt_amnt\"], axis=1)\n",
    "print(loans_2007.iloc[0])#第一行数据\n",
    "print(\"-----------------------\")\n",
    "print(loans_2007.shape[1]) #原始是52列，现在是32列的候选特征，还是有点“冗余”，但是还少了一个东西呀，是啥样.....是不是“标签label”啊"
   ]
  },
  {
   "cell_type": "code",
   "execution_count": 9,
   "metadata": {},
   "outputs": [
    {
     "data": {
      "text/plain": [
       "Fully Paid            33693\n",
       "Charged Off            5612\n",
       "Current                 201\n",
       "Late (31-120 days)       10\n",
       "In Grace Period           9\n",
       "Late (16-30 days)         5\n",
       "Default                   1\n",
       "Name: loan_status, dtype: int64"
      ]
     },
     "execution_count": 9,
     "metadata": {},
     "output_type": "execute_result"
    }
   ],
   "source": [
    "loans_2007['loan_status'].value_counts()"
   ]
  },
  {
   "cell_type": "code",
   "execution_count": 10,
   "metadata": {},
   "outputs": [],
   "source": [
    "# 寻找标签值， 用 0. 1来表示\n",
    "loans_2007 = loans_2007[\n",
    "    (loans_2007['loan_status'] == \"Fully Paid\") |\n",
    "    (loans_2007['loan_status'] == \"Charged Off\")\n",
    "]\n",
    "status_replace = {\n",
    "    \"loan_status\": {\n",
    "        \"Fully Paid\": 1,\n",
    "        \"Charged Off\": 0,\n",
    "    }\n",
    "}\n",
    "# replace:执行的是查找并替换的操作\n",
    "loans_2007 = loans_2007.replace(status_replace)"
   ]
  },
  {
   "cell_type": "code",
   "execution_count": 11,
   "metadata": {},
   "outputs": [
    {
     "data": {
      "text/plain": [
       "(39305, 24)"
      ]
     },
     "metadata": {},
     "output_type": "display_data"
    }
   ],
   "source": [
    "# 去掉特征中只有一种属性或者特征的列，对于分类模型的预测是没有用的\n",
    "orig_columns = loans_2007.columns # 展现所有的列\n",
    "drop_columns = [] # 初始化空值\n",
    "for col in orig_columns:\n",
    "    # dropna() 先删除空值，在去重算唯一的属性\n",
    "    col_series = loans_2007[col].dropna().unique()\n",
    "    # 如果该特征只有一个属性，就给过滤掉该特征\n",
    "    if len(col_series) == 1:\n",
    "        drop_columns.append(col)\n",
    "loans_2007 = loans_2007.drop(drop_columns, axis=1)\n",
    "display(loans_2007.shape)\n",
    "loans_2007.to_csv(\"filtered_loans_2007.csv\", index=False)"
   ]
  },
  {
   "cell_type": "code",
   "execution_count": 12,
   "metadata": {},
   "outputs": [
    {
     "name": "stdout",
     "output_type": "stream",
     "text": [
      "loan_amnt                  0\n",
      "term                       0\n",
      "int_rate                   0\n",
      "installment                0\n",
      "emp_length              1073\n",
      "home_ownership             0\n",
      "annual_inc                 0\n",
      "verification_status        0\n",
      "loan_status                0\n",
      "pymnt_plan                 0\n",
      "purpose                    0\n",
      "title                     11\n",
      "addr_state                 0\n",
      "dti                        0\n",
      "delinq_2yrs                0\n",
      "earliest_cr_line           0\n",
      "inq_last_6mths             0\n",
      "open_acc                   0\n",
      "pub_rec                    0\n",
      "revol_bal                  0\n",
      "revol_util                50\n",
      "total_acc                  0\n",
      "last_credit_pull_d         1\n",
      "pub_rec_bankruptcies     449\n",
      "dtype: int64\n"
     ]
    }
   ],
   "source": [
    "# 处理缺失值\n",
    "import pandas as pd\n",
    "loans = pd.read_csv('filtered_loans_2007.csv')\n",
    "null_counts = loans.isnull().sum()\n",
    "print(null_counts)"
   ]
  },
  {
   "cell_type": "code",
   "execution_count": 13,
   "metadata": {},
   "outputs": [
    {
     "data": {
      "text/plain": [
       "10+ years    8796\n",
       "< 1 year     4505\n",
       "2 years      4344\n",
       "3 years      4056\n",
       "4 years      3406\n",
       "5 years      3269\n",
       "1 year       3189\n",
       "6 years      2205\n",
       "7 years      1751\n",
       "8 years      1465\n",
       "9 years      1246\n",
       "Name: emp_length, dtype: int64"
      ]
     },
     "execution_count": 13,
     "metadata": {},
     "output_type": "execute_result"
    }
   ],
   "source": [
    "loans['emp_length'].value_counts()"
   ]
  },
  {
   "cell_type": "code",
   "execution_count": 14,
   "metadata": {},
   "outputs": [
    {
     "data": {
      "text/plain": [
       "object     12\n",
       "float64    10\n",
       "int64       1\n",
       "dtype: int64"
      ]
     },
     "execution_count": 14,
     "metadata": {},
     "output_type": "execute_result"
    }
   ],
   "source": [
    "# pub_rec_bankruptcies：不良记录数\n",
    "loans = loans.drop(\"pub_rec_bankruptcies\", axis=1)\n",
    "loans = loans.dropna(axis=0)\n",
    "loans.dtypes.value_counts()"
   ]
  },
  {
   "cell_type": "code",
   "execution_count": 15,
   "metadata": {},
   "outputs": [
    {
     "data": {
      "text/plain": [
       "term                     36 months\n",
       "int_rate                    10.65%\n",
       "emp_length               10+ years\n",
       "home_ownership                RENT\n",
       "verification_status       Verified\n",
       "pymnt_plan                       n\n",
       "purpose                credit_card\n",
       "title                     Computer\n",
       "addr_state                      AZ\n",
       "earliest_cr_line            Jan-85\n",
       "revol_util                  83.70%\n",
       "last_credit_pull_d          Nov-16\n",
       "Name: 0, dtype: object"
      ]
     },
     "execution_count": 15,
     "metadata": {},
     "output_type": "execute_result"
    }
   ],
   "source": [
    "# 数据类型的转换\n",
    "object_columns_df = loans.select_dtypes(include=[\"object\"])\n",
    "object_columns_df.iloc[0]"
   ]
  },
  {
   "cell_type": "markdown",
   "metadata": {},
   "source": [
    "- term: 分期多少个月啊\n",
    "- int_rate: 利息， 10.65%，后面还要吧%去掉。\n",
    "- emp_length: 10年的映射成10， 9年的映射成9\n",
    "- home_ownership: 房屋所有权，是租的， 自己的，还是抵押出去了，就用 0 1 2 来代替"
   ]
  },
  {
   "cell_type": "code",
   "execution_count": 16,
   "metadata": {},
   "outputs": [
    {
     "name": "stdout",
     "output_type": "stream",
     "text": [
      "RENT        18237\n",
      "MORTGAGE    17035\n",
      "OWN          2805\n",
      "OTHER          96\n",
      "NONE            1\n",
      "Name: home_ownership, dtype: int64\n",
      "Not Verified       16182\n",
      "Verified           12251\n",
      "Source Verified     9741\n",
      "Name: verification_status, dtype: int64\n",
      "10+ years    8794\n",
      "< 1 year     4492\n",
      "2 years      4339\n",
      "3 years      4052\n",
      "4 years      3397\n",
      "5 years      3262\n",
      "1 year       3182\n",
      "6 years      2201\n",
      "7 years      1747\n",
      "8 years      1463\n",
      "9 years      1245\n",
      "Name: emp_length, dtype: int64\n",
      " 36 months    27980\n",
      " 60 months    10194\n",
      "Name: term, dtype: int64\n",
      "CA    6876\n",
      "NY    3644\n",
      "FL    2739\n",
      "TX    2657\n",
      "NJ    1799\n",
      "IL    1478\n",
      "PA    1470\n",
      "VA    1355\n",
      "GA    1342\n",
      "MA    1278\n",
      "OH    1176\n",
      "MD    1019\n",
      "AZ     824\n",
      "WA     788\n",
      "CO     758\n",
      "NC     739\n",
      "CT     725\n",
      "MI     688\n",
      "MO     654\n",
      "MN     589\n",
      "NV     477\n",
      "SC     457\n",
      "OR     431\n",
      "WI     429\n",
      "AL     424\n",
      "LA     422\n",
      "KY     320\n",
      "OK     292\n",
      "KS     257\n",
      "UT     248\n",
      "AR     233\n",
      "DC     211\n",
      "RI     196\n",
      "NM     180\n",
      "HI     168\n",
      "WV     167\n",
      "NH     160\n",
      "DE     109\n",
      "MT      78\n",
      "WY      78\n",
      "AK      77\n",
      "SD      61\n",
      "VT      54\n",
      "MS      19\n",
      "TN      16\n",
      "ID       6\n",
      "IA       5\n",
      "NE       1\n",
      "Name: addr_state, dtype: int64\n"
     ]
    }
   ],
   "source": [
    "#查看指定标签的属性，并记数\n",
    "#home_ownership：房屋所有权\n",
    "#verification_status：身份保持证明\n",
    "#emp_length：客户公司名称\n",
    "#term：贷款分期的时间\n",
    "#addr_state：地址邮编\n",
    "cols = [\n",
    "    'home_ownership', 'verification_status', 'emp_length', 'term', 'addr_state'\n",
    "]\n",
    "for c in cols:\n",
    "    print(loans[c].value_counts())"
   ]
  },
  {
   "cell_type": "code",
   "execution_count": 17,
   "metadata": {},
   "outputs": [
    {
     "name": "stdout",
     "output_type": "stream",
     "text": [
      "debt_consolidation    18057\n",
      "credit_card            4927\n",
      "other                  3761\n",
      "home_improvement       2846\n",
      "major_purchase         2103\n",
      "small_business         1745\n",
      "car                    1489\n",
      "wedding                 924\n",
      "medical                 665\n",
      "moving                  551\n",
      "house                   364\n",
      "vacation                347\n",
      "educational             300\n",
      "renewable_energy         95\n",
      "Name: purpose, dtype: int64\n",
      "------------------------------\n",
      "Debt Consolidation                                 2122\n",
      "Debt Consolidation Loan                            1670\n",
      "Personal Loan                                       625\n",
      "Consolidation                                       502\n",
      "debt consolidation                                  483\n",
      "                                                   ... \n",
      "Loan2011                                              1\n",
      "Hidden Creek                                          1\n",
      "business expansion                                    1\n",
      "home improvement project excellent credit!!!!!!       1\n",
      "getting ready for Baby                                1\n",
      "Name: title, Length: 18933, dtype: int64\n"
     ]
    }
   ],
   "source": [
    "# purpoes 和 title 表达的意思相近，且从输出结果可以看出来 title 所含的属性较多， 可以将其舍弃掉\n",
    "print(loans[\"purpose\"].value_counts()) # 贷款目的\n",
    "print(\"-\"*30)\n",
    "print(loans[\"title\"].value_counts()) # title: 跟purpose 任选其一"
   ]
  },
  {
   "cell_type": "code",
   "execution_count": 18,
   "metadata": {},
   "outputs": [],
   "source": [
    "# labelencoder\n",
    "# jemp_length 做成字典，emp_length 当做key, value里还是字典， \"10+ years\": 10 ...\n",
    "# 再在后面调用replace函数，刚才利息这列特征，有% 可以用 astype() 处理一下\n",
    "mapping_dict = {\n",
    "    \"emp_length\": {\n",
    "        \"10+ years\": 10,\n",
    "        \"9 years\": 9,\n",
    "        \"8 years\": 8,\n",
    "        \"7 years\": 7,\n",
    "        \"6 years\": 6,\n",
    "        \"5 years\": 5,\n",
    "        \"4 years\": 4,\n",
    "        \"3 years\": 3,\n",
    "        \"2 years\": 2,\n",
    "        \"1 year\": 1,\n",
    "        \"< 1 year\": 0,\n",
    "        \"n/a\": 0\n",
    "    }\n",
    "}\n",
    "# 删除：last_credit_pull_d：LC撤回最近的月份   \n",
    "#earliest_cr_line：第一次借贷时间\n",
    "#addr_state：家庭邮编\n",
    "#title：URL的标题\n",
    "loans = loans.drop(\n",
    "    [\"last_credit_pull_d\", \"earliest_cr_line\", \"addr_state\", \"title\"], axis=1)\n",
    "#rstrip()：删除 string 字符串末尾的指定字符\n",
    "loans[\"int_rate\"] = loans[\"int_rate\"].str.rstrip(\"%\").astype(\"float\")\n",
    "#revol_util：透支额度占信用比例\n",
    "loans[\"revol_util\"] = loans[\"revol_util\"].str.rstrip(\"%\").astype(\"float\")\n",
    "loans = loans.replace(mapping_dict)"
   ]
  },
  {
   "cell_type": "markdown",
   "metadata": {},
   "source": [
    "- 剩余的其他字符型特征，此处选择使用 pandas 的 get_dummies() 函数，直接映射为数值型."
   ]
  },
  {
   "cell_type": "code",
   "execution_count": 19,
   "metadata": {},
   "outputs": [],
   "source": [
    "#查看指定标签的属性，并记数\n",
    "#home_ownership：房屋所有权\n",
    "#verification_status：身份保持证明\n",
    "#emp_length：客户公司名称\n",
    "#purpose：贷款的意图\n",
    "#term：贷款分期的时间\n",
    "\n",
    "cat_columns = [\"home_ownership\", \"verification_status\", \"emp_length\", \"purpose\", \"term\"]\n",
    "dummy_df = pd.get_dummies(loans[cat_columns])\n",
    "loans = pd.concat([loans, dummy_df], axis=1)\n",
    "loans = loans.drop(cat_columns, axis=1)\n",
    "loans = loans.drop(\"pymnt_plan\", axis=1)"
   ]
  },
  {
   "cell_type": "code",
   "execution_count": 20,
   "metadata": {},
   "outputs": [],
   "source": [
    "loans.to_csv('cleaned_loans2007.csv', index=False)"
   ]
  },
  {
   "cell_type": "markdown",
   "metadata": {},
   "source": [
    "###  什么时候用 oneHotEncoder独热编码和LabelEncoder标签编码？\n",
    "- 特征的属性小于等于3，就用OneHotEncoder, 比如说: 天气， 性别， 属于无序特征\n",
    "- 特征的属性大于3， 就用LabelEncoder, 比如说: 星期，属于有序型"
   ]
  },
  {
   "cell_type": "code",
   "execution_count": 36,
   "metadata": {
    "scrolled": true
   },
   "outputs": [
    {
     "name": "stdout",
     "output_type": "stream",
     "text": [
      "<class 'pandas.core.frame.DataFrame'>\n",
      "RangeIndex: 38174 entries, 0 to 38173\n",
      "Data columns (total 48 columns):\n",
      "loan_amnt                              38174 non-null float64\n",
      "int_rate                               38174 non-null float64\n",
      "installment                            38174 non-null float64\n",
      "annual_inc                             38174 non-null float64\n",
      "loan_status                            38174 non-null int64\n",
      "dti                                    38174 non-null float64\n",
      "delinq_2yrs                            38174 non-null float64\n",
      "inq_last_6mths                         38174 non-null float64\n",
      "open_acc                               38174 non-null float64\n",
      "pub_rec                                38174 non-null float64\n",
      "revol_bal                              38174 non-null float64\n",
      "revol_util                             38174 non-null float64\n",
      "total_acc                              38174 non-null float64\n",
      "home_ownership_MORTGAGE                38174 non-null int64\n",
      "home_ownership_NONE                    38174 non-null int64\n",
      "home_ownership_OTHER                   38174 non-null int64\n",
      "home_ownership_OWN                     38174 non-null int64\n",
      "home_ownership_RENT                    38174 non-null int64\n",
      "verification_status_Not Verified       38174 non-null int64\n",
      "verification_status_Source Verified    38174 non-null int64\n",
      "verification_status_Verified           38174 non-null int64\n",
      "emp_length_0                           38174 non-null int64\n",
      "emp_length_1                           38174 non-null int64\n",
      "emp_length_2                           38174 non-null int64\n",
      "emp_length_3                           38174 non-null int64\n",
      "emp_length_4                           38174 non-null int64\n",
      "emp_length_5                           38174 non-null int64\n",
      "emp_length_6                           38174 non-null int64\n",
      "emp_length_7                           38174 non-null int64\n",
      "emp_length_8                           38174 non-null int64\n",
      "emp_length_9                           38174 non-null int64\n",
      "emp_length_10                          38174 non-null int64\n",
      "purpose_car                            38174 non-null int64\n",
      "purpose_credit_card                    38174 non-null int64\n",
      "purpose_debt_consolidation             38174 non-null int64\n",
      "purpose_educational                    38174 non-null int64\n",
      "purpose_home_improvement               38174 non-null int64\n",
      "purpose_house                          38174 non-null int64\n",
      "purpose_major_purchase                 38174 non-null int64\n",
      "purpose_medical                        38174 non-null int64\n",
      "purpose_moving                         38174 non-null int64\n",
      "purpose_other                          38174 non-null int64\n",
      "purpose_renewable_energy               38174 non-null int64\n",
      "purpose_small_business                 38174 non-null int64\n",
      "purpose_vacation                       38174 non-null int64\n",
      "purpose_wedding                        38174 non-null int64\n",
      "term_ 36 months                        38174 non-null int64\n",
      "term_ 60 months                        38174 non-null int64\n",
      "dtypes: float64(12), int64(36)\n",
      "memory usage: 14.0 MB\n"
     ]
    }
   ],
   "source": [
    "import pandas as pd\n",
    "loans = pd.read_csv(\"cleaned_loans2007.csv\")\n",
    "loans.info()"
   ]
  },
  {
   "cell_type": "code",
   "execution_count": 77,
   "metadata": {},
   "outputs": [
    {
     "data": {
      "text/html": [
       "<div>\n",
       "<style scoped>\n",
       "    .dataframe tbody tr th:only-of-type {\n",
       "        vertical-align: middle;\n",
       "    }\n",
       "\n",
       "    .dataframe tbody tr th {\n",
       "        vertical-align: top;\n",
       "    }\n",
       "\n",
       "    .dataframe thead th {\n",
       "        text-align: right;\n",
       "    }\n",
       "</style>\n",
       "<table border=\"1\" class=\"dataframe\">\n",
       "  <thead>\n",
       "    <tr style=\"text-align: right;\">\n",
       "      <th></th>\n",
       "      <th>loan_status</th>\n",
       "    </tr>\n",
       "  </thead>\n",
       "  <tbody>\n",
       "    <tr>\n",
       "      <th>loan_status</th>\n",
       "      <td>1.000000</td>\n",
       "    </tr>\n",
       "    <tr>\n",
       "      <th>term_ 36 months</th>\n",
       "      <td>0.156455</td>\n",
       "    </tr>\n",
       "    <tr>\n",
       "      <th>verification_status_Not Verified</th>\n",
       "      <td>0.042437</td>\n",
       "    </tr>\n",
       "    <tr>\n",
       "      <th>purpose_credit_card</th>\n",
       "      <td>0.040791</td>\n",
       "    </tr>\n",
       "    <tr>\n",
       "      <th>annual_inc</th>\n",
       "      <td>0.039482</td>\n",
       "    </tr>\n",
       "    <tr>\n",
       "      <th>purpose_major_purchase</th>\n",
       "      <td>0.028595</td>\n",
       "    </tr>\n",
       "    <tr>\n",
       "      <th>home_ownership_MORTGAGE</th>\n",
       "      <td>0.023519</td>\n",
       "    </tr>\n",
       "    <tr>\n",
       "      <th>purpose_home_improvement</th>\n",
       "      <td>0.021515</td>\n",
       "    </tr>\n",
       "    <tr>\n",
       "      <th>purpose_car</th>\n",
       "      <td>0.021515</td>\n",
       "    </tr>\n",
       "    <tr>\n",
       "      <th>total_acc</th>\n",
       "      <td>0.020633</td>\n",
       "    </tr>\n",
       "  </tbody>\n",
       "</table>\n",
       "</div>"
      ],
      "text/plain": [
       "                                  loan_status\n",
       "loan_status                          1.000000\n",
       "term_ 36 months                      0.156455\n",
       "verification_status_Not Verified     0.042437\n",
       "purpose_credit_card                  0.040791\n",
       "annual_inc                           0.039482\n",
       "purpose_major_purchase               0.028595\n",
       "home_ownership_MORTGAGE              0.023519\n",
       "purpose_home_improvement             0.021515\n",
       "purpose_car                          0.021515\n",
       "total_acc                            0.020633"
      ]
     },
     "execution_count": 77,
     "metadata": {},
     "output_type": "execute_result"
    }
   ],
   "source": [
    "import matplotlib.pyplot as plt\n",
    "loans_corr_df = loans.corr()[['loan_status']]\n",
    "loans_corr_df[\"abs_loan_status\"] = abs(loans_corr_df['loan_status'])\n",
    "loans_corr_df = loans_corr_df.sort_values('loan_status', ascending=False).drop(columns=['abs_loan_status'])\n",
    "# plt.rcParams[\"font.family\"] = \"AR PL UKai CN\"\n",
    "# plt.rcParams[\"axes.unicode_minus\"] = False\n",
    "# plt.rcParams[\"font.size\"] = 12\n",
    "# plt.figure(figsize=(20, 8), dpi=80)\n",
    "# indexs = loans_corr_df.index.to_list()[0:10]\n",
    "# plt.bar(range(len(indexs)), loans_corr_df['loan_status'].to_list()[0:10])\n",
    "# plt.ylim(-1, 1)\n",
    "# plt.xticks(range(len(indexs)), indexs)\n",
    "loans_corr_df[0:10]"
   ]
  },
  {
   "cell_type": "code",
   "execution_count": 80,
   "metadata": {},
   "outputs": [
    {
     "data": {
      "text/html": [
       "\n",
       "    <style>\n",
       "    table.eli5-weights tr:hover {\n",
       "        filter: brightness(85%);\n",
       "    }\n",
       "</style>\n",
       "\n",
       "\n",
       "\n",
       "    \n",
       "\n",
       "    \n",
       "\n",
       "    \n",
       "\n",
       "    \n",
       "\n",
       "    \n",
       "\n",
       "    \n",
       "\n",
       "\n",
       "    \n",
       "\n",
       "    \n",
       "\n",
       "    \n",
       "\n",
       "    \n",
       "\n",
       "    \n",
       "\n",
       "    \n",
       "\n",
       "\n",
       "    \n",
       "\n",
       "    \n",
       "\n",
       "    \n",
       "\n",
       "    \n",
       "\n",
       "    \n",
       "        <table class=\"eli5-weights eli5-feature-importances\" style=\"border-collapse: collapse; border: none; margin-top: 0em; table-layout: auto;\">\n",
       "    <thead>\n",
       "    <tr style=\"border: none;\">\n",
       "        <th style=\"padding: 0 1em 0 0.5em; text-align: right; border: none;\">Weight</th>\n",
       "        <th style=\"padding: 0 0.5em 0 0.5em; text-align: left; border: none;\">Feature</th>\n",
       "    </tr>\n",
       "    </thead>\n",
       "    <tbody>\n",
       "    \n",
       "        <tr style=\"background-color: hsl(120, 100.00%, 80.00%); border: none;\">\n",
       "            <td style=\"padding: 0 1em 0 0.5em; text-align: right; border: none;\">\n",
       "                0.0559\n",
       "                \n",
       "                    &plusmn; 0.0034\n",
       "                \n",
       "            </td>\n",
       "            <td style=\"padding: 0 0.5em 0 0.5em; text-align: left; border: none;\">\n",
       "                loan_amnt\n",
       "            </td>\n",
       "        </tr>\n",
       "    \n",
       "        <tr style=\"background-color: hsl(120, 100.00%, 90.49%); border: none;\">\n",
       "            <td style=\"padding: 0 1em 0 0.5em; text-align: right; border: none;\">\n",
       "                0.0193\n",
       "                \n",
       "                    &plusmn; 0.0023\n",
       "                \n",
       "            </td>\n",
       "            <td style=\"padding: 0 0.5em 0 0.5em; text-align: left; border: none;\">\n",
       "                installment\n",
       "            </td>\n",
       "        </tr>\n",
       "    \n",
       "        <tr style=\"background-color: hsl(120, 100.00%, 97.71%); border: none;\">\n",
       "            <td style=\"padding: 0 1em 0 0.5em; text-align: right; border: none;\">\n",
       "                0.0025\n",
       "                \n",
       "                    &plusmn; 0.0010\n",
       "                \n",
       "            </td>\n",
       "            <td style=\"padding: 0 0.5em 0 0.5em; text-align: left; border: none;\">\n",
       "                annual_inc\n",
       "            </td>\n",
       "        </tr>\n",
       "    \n",
       "        <tr style=\"background-color: hsl(120, 100.00%, 97.77%); border: none;\">\n",
       "            <td style=\"padding: 0 1em 0 0.5em; text-align: right; border: none;\">\n",
       "                0.0024\n",
       "                \n",
       "                    &plusmn; 0.0007\n",
       "                \n",
       "            </td>\n",
       "            <td style=\"padding: 0 0.5em 0 0.5em; text-align: left; border: none;\">\n",
       "                revol_bal\n",
       "            </td>\n",
       "        </tr>\n",
       "    \n",
       "        <tr style=\"background-color: hsl(120, 100.00%, 99.42%); border: none;\">\n",
       "            <td style=\"padding: 0 1em 0 0.5em; text-align: right; border: none;\">\n",
       "                0.0004\n",
       "                \n",
       "                    &plusmn; 0.0002\n",
       "                \n",
       "            </td>\n",
       "            <td style=\"padding: 0 0.5em 0 0.5em; text-align: left; border: none;\">\n",
       "                dti\n",
       "            </td>\n",
       "        </tr>\n",
       "    \n",
       "        <tr style=\"background-color: hsl(120, 100.00%, 99.44%); border: none;\">\n",
       "            <td style=\"padding: 0 1em 0 0.5em; text-align: right; border: none;\">\n",
       "                0.0003\n",
       "                \n",
       "                    &plusmn; 0.0008\n",
       "                \n",
       "            </td>\n",
       "            <td style=\"padding: 0 0.5em 0 0.5em; text-align: left; border: none;\">\n",
       "                total_acc\n",
       "            </td>\n",
       "        </tr>\n",
       "    \n",
       "        <tr style=\"background-color: hsl(120, 100.00%, 99.63%); border: none;\">\n",
       "            <td style=\"padding: 0 1em 0 0.5em; text-align: right; border: none;\">\n",
       "                0.0002\n",
       "                \n",
       "                    &plusmn; 0.0002\n",
       "                \n",
       "            </td>\n",
       "            <td style=\"padding: 0 0.5em 0 0.5em; text-align: left; border: none;\">\n",
       "                open_acc\n",
       "            </td>\n",
       "        </tr>\n",
       "    \n",
       "        <tr style=\"background-color: hsl(120, 100.00%, 99.75%); border: none;\">\n",
       "            <td style=\"padding: 0 1em 0 0.5em; text-align: right; border: none;\">\n",
       "                0.0001\n",
       "                \n",
       "                    &plusmn; 0.0001\n",
       "                \n",
       "            </td>\n",
       "            <td style=\"padding: 0 0.5em 0 0.5em; text-align: left; border: none;\">\n",
       "                int_rate\n",
       "            </td>\n",
       "        </tr>\n",
       "    \n",
       "        <tr style=\"background-color: hsl(120, 100.00%, 99.87%); border: none;\">\n",
       "            <td style=\"padding: 0 1em 0 0.5em; text-align: right; border: none;\">\n",
       "                0.0000\n",
       "                \n",
       "                    &plusmn; 0.0002\n",
       "                \n",
       "            </td>\n",
       "            <td style=\"padding: 0 0.5em 0 0.5em; text-align: left; border: none;\">\n",
       "                revol_util\n",
       "            </td>\n",
       "        </tr>\n",
       "    \n",
       "        <tr style=\"background-color: hsl(0, 100.00%, 100.00%); border: none;\">\n",
       "            <td style=\"padding: 0 1em 0 0.5em; text-align: right; border: none;\">\n",
       "                0\n",
       "                \n",
       "                    &plusmn; 0.0000\n",
       "                \n",
       "            </td>\n",
       "            <td style=\"padding: 0 0.5em 0 0.5em; text-align: left; border: none;\">\n",
       "                inq_last_6mths\n",
       "            </td>\n",
       "        </tr>\n",
       "    \n",
       "        <tr style=\"background-color: hsl(0, 100.00%, 100.00%); border: none;\">\n",
       "            <td style=\"padding: 0 1em 0 0.5em; text-align: right; border: none;\">\n",
       "                0\n",
       "                \n",
       "                    &plusmn; 0.0000\n",
       "                \n",
       "            </td>\n",
       "            <td style=\"padding: 0 0.5em 0 0.5em; text-align: left; border: none;\">\n",
       "                emp_length_2\n",
       "            </td>\n",
       "        </tr>\n",
       "    \n",
       "        <tr style=\"background-color: hsl(0, 100.00%, 100.00%); border: none;\">\n",
       "            <td style=\"padding: 0 1em 0 0.5em; text-align: right; border: none;\">\n",
       "                0\n",
       "                \n",
       "                    &plusmn; 0.0000\n",
       "                \n",
       "            </td>\n",
       "            <td style=\"padding: 0 0.5em 0 0.5em; text-align: left; border: none;\">\n",
       "                verification_status_Verified\n",
       "            </td>\n",
       "        </tr>\n",
       "    \n",
       "        <tr style=\"background-color: hsl(0, 100.00%, 100.00%); border: none;\">\n",
       "            <td style=\"padding: 0 1em 0 0.5em; text-align: right; border: none;\">\n",
       "                0\n",
       "                \n",
       "                    &plusmn; 0.0000\n",
       "                \n",
       "            </td>\n",
       "            <td style=\"padding: 0 0.5em 0 0.5em; text-align: left; border: none;\">\n",
       "                verification_status_Source Verified\n",
       "            </td>\n",
       "        </tr>\n",
       "    \n",
       "        <tr style=\"background-color: hsl(0, 100.00%, 100.00%); border: none;\">\n",
       "            <td style=\"padding: 0 1em 0 0.5em; text-align: right; border: none;\">\n",
       "                0\n",
       "                \n",
       "                    &plusmn; 0.0000\n",
       "                \n",
       "            </td>\n",
       "            <td style=\"padding: 0 0.5em 0 0.5em; text-align: left; border: none;\">\n",
       "                verification_status_Not Verified\n",
       "            </td>\n",
       "        </tr>\n",
       "    \n",
       "        <tr style=\"background-color: hsl(0, 100.00%, 100.00%); border: none;\">\n",
       "            <td style=\"padding: 0 1em 0 0.5em; text-align: right; border: none;\">\n",
       "                0\n",
       "                \n",
       "                    &plusmn; 0.0000\n",
       "                \n",
       "            </td>\n",
       "            <td style=\"padding: 0 0.5em 0 0.5em; text-align: left; border: none;\">\n",
       "                home_ownership_MORTGAGE\n",
       "            </td>\n",
       "        </tr>\n",
       "    \n",
       "        <tr style=\"background-color: hsl(0, 100.00%, 100.00%); border: none;\">\n",
       "            <td style=\"padding: 0 1em 0 0.5em; text-align: right; border: none;\">\n",
       "                0\n",
       "                \n",
       "                    &plusmn; 0.0000\n",
       "                \n",
       "            </td>\n",
       "            <td style=\"padding: 0 0.5em 0 0.5em; text-align: left; border: none;\">\n",
       "                pub_rec\n",
       "            </td>\n",
       "        </tr>\n",
       "    \n",
       "        <tr style=\"background-color: hsl(0, 100.00%, 100.00%); border: none;\">\n",
       "            <td style=\"padding: 0 1em 0 0.5em; text-align: right; border: none;\">\n",
       "                0\n",
       "                \n",
       "                    &plusmn; 0.0000\n",
       "                \n",
       "            </td>\n",
       "            <td style=\"padding: 0 0.5em 0 0.5em; text-align: left; border: none;\">\n",
       "                home_ownership_OTHER\n",
       "            </td>\n",
       "        </tr>\n",
       "    \n",
       "        <tr style=\"background-color: hsl(0, 100.00%, 100.00%); border: none;\">\n",
       "            <td style=\"padding: 0 1em 0 0.5em; text-align: right; border: none;\">\n",
       "                0\n",
       "                \n",
       "                    &plusmn; 0.0000\n",
       "                \n",
       "            </td>\n",
       "            <td style=\"padding: 0 0.5em 0 0.5em; text-align: left; border: none;\">\n",
       "                home_ownership_RENT\n",
       "            </td>\n",
       "        </tr>\n",
       "    \n",
       "        <tr style=\"background-color: hsl(0, 100.00%, 100.00%); border: none;\">\n",
       "            <td style=\"padding: 0 1em 0 0.5em; text-align: right; border: none;\">\n",
       "                0\n",
       "                \n",
       "                    &plusmn; 0.0000\n",
       "                \n",
       "            </td>\n",
       "            <td style=\"padding: 0 0.5em 0 0.5em; text-align: left; border: none;\">\n",
       "                emp_length_0\n",
       "            </td>\n",
       "        </tr>\n",
       "    \n",
       "        <tr style=\"background-color: hsl(0, 100.00%, 100.00%); border: none;\">\n",
       "            <td style=\"padding: 0 1em 0 0.5em; text-align: right; border: none;\">\n",
       "                0\n",
       "                \n",
       "                    &plusmn; 0.0000\n",
       "                \n",
       "            </td>\n",
       "            <td style=\"padding: 0 0.5em 0 0.5em; text-align: left; border: none;\">\n",
       "                emp_length_1\n",
       "            </td>\n",
       "        </tr>\n",
       "    \n",
       "    \n",
       "        \n",
       "            <tr style=\"background-color: hsl(0, 100.00%, 100.00%); border: none;\">\n",
       "                <td colspan=\"2\" style=\"padding: 0 0.5em 0 0.5em; text-align: center; border: none; white-space: nowrap;\">\n",
       "                    <i>&hellip; 27 more &hellip;</i>\n",
       "                </td>\n",
       "            </tr>\n",
       "        \n",
       "    \n",
       "    </tbody>\n",
       "</table>\n",
       "    \n",
       "\n",
       "    \n",
       "\n",
       "\n",
       "    \n",
       "\n",
       "    \n",
       "\n",
       "    \n",
       "\n",
       "    \n",
       "\n",
       "    \n",
       "\n",
       "    \n",
       "\n",
       "\n",
       "\n"
      ],
      "text/plain": [
       "<IPython.core.display.HTML object>"
      ]
     },
     "execution_count": 80,
     "metadata": {},
     "output_type": "execute_result"
    }
   ],
   "source": [
    "import eli5\n",
    "from eli5.sklearn import PermutationImportance\n",
    "from sklearn.linear_model import LogisticRegression\n",
    "cols = loans.columns\n",
    "train_cols = cols.drop(\"loan_status\")\n",
    "X = loans[train_cols]\n",
    "y = loans['loan_status']\n",
    "# 由大到小，进行降序\n",
    "lr = LogisticRegression()\n",
    "train_X, test_X, train_y, test_y = train_test_split(X, y, random_state=1)\n",
    "train_model = lr.fit(train_X, train_y)\n",
    "perm = PermutationImportance(train_model, random_state=1).fit(test_X, test_y)\n",
    "eli5.show_weights(perm, feature_names=test_X.columns.tolist())"
   ]
  },
  {
   "cell_type": "code",
   "execution_count": 23,
   "metadata": {
    "scrolled": true
   },
   "outputs": [
    {
     "name": "stdout",
     "output_type": "stream",
     "text": [
      "权重: [[-9.73042111e-05  4.49402864e-03  3.05632610e-03  1.41968934e-05\n",
      "   2.29139201e-02 -4.14712426e-05 -1.56999319e-04  1.33444663e-02\n",
      "  -1.83992983e-04 -1.32734476e-05  3.77377500e-04  2.72017698e-02\n",
      "   4.86226196e-04  5.61207136e-07 -3.36077351e-06  2.74002806e-04\n",
      "   1.28197303e-03  1.67046402e-03  5.39558443e-04 -1.70619994e-04\n",
      "   4.02846718e-04  2.44761081e-04  4.01756434e-04  2.75976775e-04\n",
      "   2.17043822e-04  1.83565231e-04  1.26523331e-04  5.79396130e-05\n",
      "   5.79951330e-05  7.14909399e-05 -4.96611229e-07  2.36238521e-04\n",
      "   4.85079881e-04  6.60879763e-04  2.31472058e-05  1.75698355e-04\n",
      "   2.98937731e-06  3.24733716e-04  3.22055752e-05  4.27192398e-05\n",
      "   1.93875024e-04 -3.38131028e-06 -2.76195797e-04  2.64032733e-05\n",
      "   1.15009643e-04  2.70930530e-03 -6.69902836e-04]]\n",
      "概率模型: [[0.23597278 0.76402722]\n",
      " [0.35661543 0.64338457]\n",
      " [0.31573614 0.68426386]\n",
      " ...\n",
      " [0.3074582  0.6925418 ]\n",
      " [0.1029464  0.8970536 ]\n",
      " [0.09553652 0.90446348]]\n",
      "偏置: [0.0020394]\n",
      "结果: [1 1 1 1 1 1 1 1 1 1]\n"
     ]
    }
   ],
   "source": [
    "# 自己尝试的.\n",
    "from sklearn.model_selection import train_test_split\n",
    "from sklearn.linear_model import LogisticRegression\n",
    "cols = loans.columns\n",
    "train_cols = cols.drop(\"loan_status\")\n",
    "X = loans[train_cols]\n",
    "y = loans['loan_status']\n",
    "# X_train, X_test, y_train, y_test = train_test_split(X, y, test_size=0.25, random_state=2)\n",
    "lr = LogisticRegression()\n",
    "# lr.fit(X_train, y_train)\n",
    "# y_hat = lr.predict(X_test)\n",
    "lr.fit(X, y)\n",
    "y_hat = lr.predict(X)\n",
    "print(\"权重:\", lr.coef_)\n",
    "print(\"概率模型:\", lr.predict_proba(X))\n",
    "print(\"偏置:\", lr.intercept_)\n",
    "print(\"结果:\", y_hat[:10]) # 0 表示没有偿还，1 表示偿还"
   ]
  },
  {
   "cell_type": "code",
   "execution_count": 24,
   "metadata": {},
   "outputs": [
    {
     "data": {
      "text/plain": [
       "array([[0.23597278, 0.76402722],\n",
       "       [0.35661543, 0.64338457],\n",
       "       [0.31573614, 0.68426386],\n",
       "       ...,\n",
       "       [0.3074582 , 0.6925418 ],\n",
       "       [0.1029464 , 0.8970536 ],\n",
       "       [0.09553652, 0.90446348]])"
      ]
     },
     "execution_count": 24,
     "metadata": {},
     "output_type": "execute_result"
    }
   ],
   "source": [
    "lr.predict_proba(X)"
   ]
  },
  {
   "cell_type": "code",
   "execution_count": 25,
   "metadata": {},
   "outputs": [
    {
     "name": "stdout",
     "output_type": "stream",
     "text": [
      "5355\n",
      "------------------------------\n",
      "32786\n",
      "------------------------------\n",
      "23\n",
      "------------------------------\n",
      "10\n"
     ]
    }
   ],
   "source": [
    "# 建立混淆矩阵\n",
    "import pandas as pd\n",
    "# 接下来如何计算4个指标 fp tp fn tn\n",
    "\n",
    "# 假正类(False Positive, FP): 将负类预测为正类\n",
    "fp_filter = (y_hat == 1) & (loans['loan_status'] == 0)\n",
    "fp = len(y_hat[fp_filter])\n",
    "print(fp)\n",
    "print(\"-\"*30)\n",
    "\n",
    "# 真正类(True Positive, TP): 将正类预测为正类\n",
    "tp_filter = (y_hat == 1) & (loans['loan_status'] == 1)\n",
    "tp = len(y_hat[tp_filter])\n",
    "print(tp)\n",
    "print(\"-\"*30)\n",
    "\n",
    "# 假负类(False Negative, FN): 将正类预测为负类\n",
    "fn_filter = (y_hat == 0) & (loans['loan_status'] == 1)\n",
    "fn = len(y_hat[fn_filter])\n",
    "print(fn)\n",
    "print(\"-\"*30)\n",
    "\n",
    "# 真负类(True Negative, TN): 将负类预测为负类\n",
    "tn_filter = (y_hat == 0) & (loans[\"loan_status\"] == 0)\n",
    "tn = len(y_hat[tn_filter])\n",
    "print(tn)"
   ]
  },
  {
   "cell_type": "code",
   "execution_count": 26,
   "metadata": {},
   "outputs": [
    {
     "name": "stdout",
     "output_type": "stream",
     "text": [
      "0      1\n",
      "1      1\n",
      "2      1\n",
      "3      1\n",
      "4      1\n",
      "      ..\n",
      "995    1\n",
      "996    1\n",
      "997    1\n",
      "998    1\n",
      "999    1\n",
      "Length: 1000, dtype: int64\n"
     ]
    }
   ],
   "source": [
    "from sklearn.linear_model import LogisticRegression\n",
    "from sklearn.model_selection import cross_val_predict\n",
    "lr = LogisticRegression()\n",
    "predictions = cross_val_predict(lr, X, y, cv=10)\n",
    "predictions = pd.Series(predictions)\n",
    "print(predictions[:1000])"
   ]
  },
  {
   "cell_type": "code",
   "execution_count": 27,
   "metadata": {},
   "outputs": [],
   "source": [
    "# 假正类(False Positive, FP): 将负类预测为正类\n",
    "fp_filter = (predictions == 1) & (loans[\"loan_status\"] == 0)\n",
    "fp = len(predictions[fp_filter])\n",
    "\n",
    "# 真正类(True Positive, TP): 将正类预测为正类\n",
    "tp_filter = (predictions == 1) & (loans[\"loan_status\"] == 1)\n",
    "tp = len(predictions[tp_filter])\n",
    "\n",
    "# 假负类(False Negative, FN): 将负类预测为正类\n",
    "fn_filter = (predictions == 0) & (loans[\"loan_status\"] == 1)\n",
    "fn = len(predictions[fn_filter])\n",
    "\n",
    "# 真负类(True Negative, TN): 将负类预测为负类\n",
    "tn_filter = (predictions == 0) & (loans[\"loan_status\"] == 0)\n",
    "tn = len(predictions[tn_filter])"
   ]
  },
  {
   "cell_type": "markdown",
   "metadata": {},
   "source": [
    "$$\n",
    "    TRP = \\frac{truepositives}{falsepositives + truepositives}\n",
    "$$\n",
    "\n",
    "$$\n",
    "    FPR = \\frac{falsepositives}{falsepositives + truepositives}\n",
    "$$"
   ]
  },
  {
   "cell_type": "code",
   "execution_count": 28,
   "metadata": {},
   "outputs": [
    {
     "name": "stdout",
     "output_type": "stream",
     "text": [
      "0.9990246578682679\n",
      "0.9985088536812675\n"
     ]
    }
   ],
   "source": [
    "# Rates: 就可以用刚才的指标进行衡量了啊\n",
    "tpr = tp / float((tp + fn))\n",
    "fpr = fp / float((fp + tn))\n",
    "print(tpr) # 真正率\n",
    "print(fpr) # 假正率"
   ]
  },
  {
   "cell_type": "markdown",
   "metadata": {},
   "source": [
    "**TPR 和 FPR的值都很高，说明一个人基本会判断为可以借钱，那显然模型就没有分类意义**"
   ]
  },
  {
   "cell_type": "code",
   "execution_count": 81,
   "metadata": {
    "scrolled": true
   },
   "outputs": [
    {
     "name": "stdout",
     "output_type": "stream",
     "text": [
      "真正率:0.5325368039257521\n",
      "假正率:0.33998136067101586\n"
     ]
    }
   ],
   "source": [
    "# 考虑权重后使用逻辑回归训练\n",
    "from sklearn.linear_model import LogisticRegression\n",
    "from sklearn.model_selection import cross_val_predict\n",
    "\"\"\"\n",
    "class_weight: 可以调整正反样本的权重\n",
    "balanced: 希望正负样本平衡一些\n",
    "\"\"\"\n",
    "lr = LogisticRegression(class_weight=\"balanced\")\n",
    "predictions = cross_val_predict(lr, X, y, cv=10)\n",
    "predictions = pd.Series(predictions)\n",
    "\n",
    "# 假正类(False Positive, FP): 将负类预测为正类\n",
    "fp_filter = (predictions == 1) & (loans[\"loan_status\"] == 0)\n",
    "fp = len(predictions[fp_filter])\n",
    "\n",
    "# 真正类(True Positive, TP): 将正类预测为正类\n",
    "tp_filter = (predictions == 1) & (loans[\"loan_status\"] == 1)\n",
    "tp = len(predictions[tp_filter])\n",
    "\n",
    "# 假负类(False Negative, FN): 将负类预测为正类\n",
    "fn_filter = (predictions == 0) & (loans[\"loan_status\"] == 1)\n",
    "fn = len(predictions[fn_filter])\n",
    "\n",
    "# 真负类(True Negative, TN): 将负类预测为负类\n",
    "tn_filter = (predictions == 0) & (loans[\"loan_status\"] == 0)\n",
    "tn = len(predictions[tn_filter])\n",
    "tpr = tp / float((tp + fn))\n",
    "fpr = fp / float((fp + tn))\n",
    "print(f\"真正率:{tpr}\") # 真正率\n",
    "print(f\"假正率:{fpr}\") # 假正率 "
   ]
  },
  {
   "cell_type": "code",
   "execution_count": 30,
   "metadata": {},
   "outputs": [
    {
     "name": "stdout",
     "output_type": "stream",
     "text": [
      "0.6939254472858057\n",
      "\n",
      "0.5090400745573159\n"
     ]
    }
   ],
   "source": [
    "# 自定义权重后使用逻辑回归训练\n",
    "from sklearn.linear_model import LogisticRegression\n",
    "from sklearn.model_selection import cross_val_predict\n",
    "\"\"\"\n",
    "权重项可以自己定义\n",
    "0代表5倍的\n",
    "1代表10倍的\n",
    "\"\"\"\n",
    "penalty = {\n",
    "    0:5,\n",
    "    1:1\n",
    "}\n",
    "lr = LogisticRegression(class_weight=penalty)\n",
    "kf = 10\n",
    "predictions = cross_val_predict(lr, X, y, cv=kf)\n",
    "predictions = pd.Series(predictions)\n",
    "\n",
    "# 假正类(False Positive, FP): 将负类预测为正类\n",
    "fp_filter = (predictions == 1) & (loans[\"loan_status\"] == 0)\n",
    "fp = len(predictions[fp_filter])\n",
    "\n",
    "# 真正类(True Positive, TP): 将正类预测为正类\n",
    "tp_filter = (predictions == 1) & (loans[\"loan_status\"] == 1)\n",
    "tp = len(predictions[tp_filter])\n",
    "\n",
    "# 假负类(False Negative, FN): 将负类预测为正类\n",
    "fn_filter = (predictions == 0) & (loans[\"loan_status\"] == 1)\n",
    "fn = len(predictions[fn_filter])\n",
    "\n",
    "# 真负类(True Negative, TN): 将负类预测为负类\n",
    "tn_filter = (predictions == 0) & (loans[\"loan_status\"] == 0)\n",
    "tn = len(predictions[tn_filter])\n",
    "\n",
    "# Rates\n",
    "tpr = tp / float((tp + fn))\n",
    "fpr = fp / float((fp + tn))\n",
    "\n",
    "print(tpr)\n",
    "print()\n",
    "print(fpr)"
   ]
  },
  {
   "cell_type": "code",
   "execution_count": null,
   "metadata": {},
   "outputs": [],
   "source": []
  },
  {
   "cell_type": "code",
   "execution_count": null,
   "metadata": {},
   "outputs": [],
   "source": []
  }
 ],
 "metadata": {
  "kernelspec": {
   "display_name": "Python 3",
   "language": "python",
   "name": "python3"
  },
  "language_info": {
   "codemirror_mode": {
    "name": "ipython",
    "version": 3
   },
   "file_extension": ".py",
   "mimetype": "text/x-python",
   "name": "python",
   "nbconvert_exporter": "python",
   "pygments_lexer": "ipython3",
   "version": "3.7.1"
  }
 },
 "nbformat": 4,
 "nbformat_minor": 2
}
